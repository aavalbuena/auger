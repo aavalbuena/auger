{
 "cells": [
  {
   "cell_type": "markdown",
   "metadata": {},
   "source": [
    "<h2 align=\"center\">Setup experimental y Metodología</h2>"
   ]
  },
  {
   "cell_type": "markdown",
   "metadata": {},
   "source": [
    "### Setup Experimental"
   ]
  },
  {
   "cell_type": "markdown",
   "metadata": {},
   "source": [
    "Se cuenta con datos (23 días del mes de Febrero de 2015) de temperatura de 4 estaciones meteorológicas (Los Leones, Los Morados, Loma Amarilla y Central Laser Facility (CLF)) y del arreglo de detectores. La idea es crear un modelo (o la menor cantidad de modelos) que sirva para predecir la temperatura en el exterior en cualquier punto del observatorio. Para esto, se va a crear una serie de experimentos mediante los cuales se busca obtener una certeza estadística en cuanto al desempeño de modelo en las predicciones."
   ]
  },
  {
   "cell_type": "markdown",
   "metadata": {},
   "source": [
    "Los datasets creados estan conformados por 2 partes, una llamada <b><i>features</i></b> que está conformada por datos\n",
    "obtenidos de los detectores mas cercanos a las (WS) y la otra <b><i>target</i></b> que es la temperatura exterior de las estaciones meteorológicas (WS).\n",
    "Los features son la media y la desviación estándar de 6 temperaturas que corresponden a: 3 temperaturas de los PMTs, 2 de las baterías y 1 de la electrónica."
   ]
  },
  {
   "cell_type": "markdown",
   "metadata": {},
   "source": [
    "En el setup Experimental se plantea combinar los features con los diferentes targets, es decir, los datos de los tanques mas cercanos a una estación con target a otra estación tanto en la fase de entrenamiento como en la de predicción.\n",
    "La nomenclatura que se utilizará es la siguiente: LL = Los Leones, LA = Loma Amarilla, LM = Los Morados, CLF = Central Laser Facility\n",
    "<font color=\"blue\">LL</font>/<font color=\"aqua\">LA</font> <font color=\"green\">LA</font>/<font color=\"lime\">LA</font> quiere decir:\n",
    "\n",
    "En la fase de entrenamiento \"<font color=\"blue\">LL</font>/<font color=\"aqua\">LA</font>\"\n",
    "- <font color=\"blue\">LL</font> = se entrena con los tanques más cercanos a los Leones\n",
    "- <font color=\"aqua\">LA</font> = usando como target la temperatura de Loma Amarilla\n",
    "\n",
    "En la fase de predicción \"<font color=\"green\">LA</font>/<font color=\"lime\">LA</font>\"\n",
    "- <font color=\"green\">LA</font> = se ingresan los features de los tanque más cercanos a Loma Amarilla\n",
    "- <font color=\"lime\">LA</font> = se compara la temperatura que el modelo predijo con la temperatura de Loma Amarilla"
   ]
  },
  {
   "cell_type": "markdown",
   "metadata": {},
   "source": [
    "Combinaciones que se probarán:\n",
    "1. LL/LL LL/LL -> se entrena y se prueba un modelo usando solo 1 WS (4 posibles casos)\n",
    "2. LL/LL CLF/CLF -> se crean un modelo en una WS y se prueba en otra WS (12 posibles casos)\n",
    "3. LL/LA CLF/CLF -> se entrena el modelo con los tanques mas cercanos a una WS con target a otra WS y se prueba en 1 WS diferente (44 posibles casos)\n",
    "4. LL/LA LM/CLF -> se entrena el modelo con los tanques mas cercanos a una WS con target a otra WS y se prueba en 1 WS diferente para saber si se puede obtener la temperatura en otra WS diferente (144 posibles casos)"
   ]
  },
  {
   "cell_type": "markdown",
   "metadata": {},
   "source": [
    "### Metodología"
   ]
  },
  {
   "cell_type": "markdown",
   "metadata": {},
   "source": [
    "Para este caso, lo mejor es la utilización de la técnica \"cross validation\" que consiste en entrenar el modelo con los días [x , (x+n)] y predecir los días [(x+n)+1 , (x+n)+1+p], luego se avanza un día y se repite el proceso hasta recorrer el mes completamente, ejemplo:\n",
    "\n",
    "<font color=\"blue\">|1-2-3-4-5-6-7-8-9-10-11-12-13-14-15-16-17-18-19-20-21-22-23| -> días de datos de Los Leones</font>\n",
    "<font color=\"green\">|1-2-3-4-5-6-7-8-9-10-11-12-13-14-15-16-17-18-19-20-21-22-23| -> días de datos de CLF</font>\n",
    "\n",
    "<li>loop 1:</li>\n",
    "-<font color=\"blue\">[1,4]</font><font color=\"green\">[5,6]</font> -> entrenamiento con los días <font color=\"blue\">1,2,3,4</font> de Los Leones y se prueba con los días <font color=\"green\">5,6</font> de CLF\n",
    "\n",
    "<li>loop 2:</li>\n",
    "-<font color=\"blue\">[2,5]</font><font color=\"green\">[6,7]</font> -> entrenamiento con los días <font color=\"blue\">2,3,4,5</font> de Los Leones y se prueba con los días <font color=\"green\">6,7</font> de CLF\n",
    "\n",
    "<li>loop 3:</li>\n",
    "-<font color=\"blue\">[3,6]</font><font color=\"green\">[7,8]</font> -> entrenamiento con los días <font color=\"blue\">3,4,5,6</font> de Los Leones y se prueba con los días <font color=\"green\">7,8</font> de CLF\n",
    "\n",
    "y así hasta que se recorra todo el mes con esta configuración. En el último loop la configuración será <font color=\"blue\">[18,21]</font><font color=\"green\">[22,23]</font>"
   ]
  },
  {
   "cell_type": "markdown",
   "metadata": {},
   "source": [
    "En cada loop se calcula el desempeño del modelo usando MAE, de modo que al final por cada configuración se tiene varias medidas de desempeño a las cuales se les calcula la media y la desviación estándar. Este proceso se repite cambiando por ejemplo los días que se usan para entrenamiento y de esta forma se puede graficar el desempeño del modelo en función de la cantidad de días que se usaron para entrenar. En la gráfica se puede observar la el desempeño de un modelo usando diferentes días para entrenar."
   ]
  },
  {
   "cell_type": "markdown",
   "metadata": {},
   "source": [
    "![title](./train2.jpeg)"
   ]
  },
  {
   "cell_type": "markdown",
   "metadata": {},
   "source": [
    "Este proceso se usa modificando tambien los días que se usan para test, lapso de días entre el final del entrenamiento y el primer día que se usa para entrenar, y el numero de tanques cercanos.\n",
    "Por ahora, el numero de días que se van a usar son:\n",
    "- 3 días máximo para entrenar\n",
    "- 3 días máximo para test\n",
    "- 3 días máximo de lapso\n",
    "- 10 tanques cercanos"
   ]
  },
  {
   "cell_type": "markdown",
   "metadata": {},
   "source": [
    "## Primera entrega"
   ]
  },
  {
   "cell_type": "markdown",
   "metadata": {},
   "source": [
    "- Lunes 26 de Diciembre:\n",
    "\n",
    "LL/LL LL/LL -> entrenamiento y test del modelo usando 1 WS (los 4 casos posibles)"
   ]
  },
  {
   "cell_type": "code",
   "execution_count": null,
   "metadata": {
    "collapsed": true
   },
   "outputs": [],
   "source": []
  }
 ],
 "metadata": {
  "kernelspec": {
   "display_name": "Python 2 + Anaconda",
   "language": "python",
   "name": "pyconda"
  },
  "language_info": {
   "codemirror_mode": {
    "name": "ipython",
    "version": 2
   },
   "file_extension": ".py",
   "mimetype": "text/x-python",
   "name": "python",
   "nbconvert_exporter": "python",
   "pygments_lexer": "ipython2",
   "version": "2.7.11"
  }
 },
 "nbformat": 4,
 "nbformat_minor": 0
}
